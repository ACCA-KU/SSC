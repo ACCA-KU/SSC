{
 "cells": [
  {
   "cell_type": "code",
   "execution_count": null,
   "id": "5464ce87-1aeb-460c-8a5b-7392cfde5220",
   "metadata": {},
   "outputs": [],
   "source": [
    "import SSC\n",
    "from SSC import train, Analyzer\n",
    "\n",
    "import numpy as np\n",
    "import pandas as pd\n",
    "from rdkit import Chem"
   ]
  },
  {
   "cell_type": "markdown",
   "id": "5e693b5a-4e5a-45c1-8731-0f96ad16992f",
   "metadata": {},
   "source": [
    "# Train"
   ]
  },
  {
   "cell_type": "code",
   "execution_count": null,
   "id": "eee7ee3b-37c5-4d20-a440-f33405b81341",
   "metadata": {
    "scrolled": true
   },
   "outputs": [],
   "source": [
    "\"A single command for full pipeline of deep learning.\"\n",
    "\"It returns the path of the folder where the training results are saved.\"\n",
    "\n",
    "model_path= train(data=\"SciData_emi\", target=['Emi_eV'])"
   ]
  },
  {
   "cell_type": "code",
   "execution_count": null,
   "id": "d80e1ccc-05e7-4067-bfe4-28a21a2d0527",
   "metadata": {},
   "outputs": [],
   "source": [
    "\"SGC bascially adopts GAT for graph convolution, but you can try other algorithms by calling other networks.\"\n",
    "\n",
    "# model_path= train(data=\"SciData_emi\", target=['Emi_eV'], network= \"SSC_DMPNN\")"
   ]
  },
  {
   "cell_type": "code",
   "execution_count": null,
   "id": "7b5b0525-2e0a-47b4-a4d1-56aba51856d5",
   "metadata": {},
   "outputs": [],
   "source": [
    "\"Hyperparameter configurations are also declared as keyword arguments of train function.\"\n",
    "\n",
    "# model_path= train(data=\"SciData_emi\", target=['Emi_eV'], conv_layers= 6, hidden_dim=256)"
   ]
  },
  {
   "cell_type": "markdown",
   "id": "91ee1c2a-b38d-4a05-a954-8aeb33d4761a",
   "metadata": {},
   "source": [
    "# Predict & Analyze"
   ]
  },
  {
   "cell_type": "code",
   "execution_count": null,
   "id": "1f626367-95f8-493b-89e7-fbbab4591370",
   "metadata": {
    "scrolled": true
   },
   "outputs": [],
   "source": [
    "# Analyzer handles the trained model. Getting the folder name as input, it loads the trained models.\n",
    "# analyzer = Analyzer(model_path.split('/')[-1])\n",
    "analyzer = Analyzer('trained_SSC_GAT')"
   ]
  },
  {
   "cell_type": "code",
   "execution_count": null,
   "id": "3c6270d0-a5f5-4cea-b60d-84cc3d4c57fa",
   "metadata": {},
   "outputs": [],
   "source": [
    "\n",
    "smi = \"S1C(C2=CC=C([N+](=O)[O-])S2)=CC=C1N(C)C\"\n",
    "smi = Chem.MolToSmiles(Chem.MolFromSmiles(smi))"
   ]
  },
  {
   "cell_type": "code",
   "execution_count": null,
   "id": "befe1672-e646-41a3-95a7-01fb98d44db5",
   "metadata": {},
   "outputs": [],
   "source": [
    "# Analyzer supports the prediction for the pair of choromophore and solvent.\n",
    "analyzer.predict(smi, \"CCO\")"
   ]
  },
  {
   "cell_type": "code",
   "execution_count": null,
   "id": "c55e8161-c8ee-4d5b-bf20-ec93354064bf",
   "metadata": {},
   "outputs": [],
   "source": [
    "# The parameters in SSC approach, including Reference Property (RP), Subgroup contribution (SC), and Proximity effect factor (PEF), are accessibe\n",
    "RP = analyzer.get_score(smi, \"CCO\", \n",
    "                        key='RP', inverse_transform=True, is_key_relative=True)\n",
    "SC = analyzer.get_score(smi, \"CCO\", \n",
    "                        key='SC', inverse_transform=False, is_key_relative=True)\n",
    "PEF = analyzer.get_score(smi, \"CCO\", \n",
    "                        key='PEF', inverse_transform=False, is_key_relative=False)\n",
    "print(SC)\n",
    "print(PEF)"
   ]
  },
  {
   "cell_type": "code",
   "execution_count": null,
   "id": "b70bc344-474c-4710-8c7e-b48277959d37",
   "metadata": {
    "scrolled": true
   },
   "outputs": [],
   "source": [
    "# These parameters can be visualized\n",
    "result = analyzer.plot_score(smi, \"CCO\", \n",
    "                             key=\"SC\", inverse_transform=False, is_key_relative=True, \n",
    "                            score_scaler = lambda x: (x-min(x))/(max(x)-min(x)) )"
   ]
  },
  {
   "cell_type": "code",
   "execution_count": null,
   "id": "944cfb52-1b54-4c5e-aabb-96a769612857",
   "metadata": {},
   "outputs": [],
   "source": [
    "subgroups = analyzer.get_fragment(smi)\n",
    "subgroup_smiles = [s.smiles for s in subgroups]"
   ]
  },
  {
   "cell_type": "code",
   "execution_count": null,
   "id": "42be932b-977d-46f9-a13d-325924abf547",
   "metadata": {},
   "outputs": [],
   "source": [
    "pd.DataFrame(\n",
    "    {\n",
    "     \"Smiles\":subgroup_smiles,\n",
    "     \"SC\": SC.reshape(-1),\n",
    "     \"PEF\": PEF.reshape(-1)\n",
    "    }\n",
    ")"
   ]
  },
  {
   "cell_type": "markdown",
   "id": "32c73383-a7fd-4374-b852-64c8300e9bf3",
   "metadata": {},
   "source": [
    "# Calculate NSC"
   ]
  },
  {
   "cell_type": "code",
   "execution_count": null,
   "id": "555b67db-4059-463d-8b3d-d6154dde193c",
   "metadata": {},
   "outputs": [],
   "source": [
    "\"To calculate NSC, you need to calculate the SC values in 20 solvents, and then subtract their average from SC values\""
   ]
  },
  {
   "cell_type": "code",
   "execution_count": null,
   "id": "8a43b6c3-ef10-4f57-a174-37b83381bf88",
   "metadata": {},
   "outputs": [],
   "source": [
    "solvent_data = pd.read_csv(\"solvent_feature.csv\")\n",
    "solvent_data = solvent_data.sort_values(\"ET(30)\")\n",
    "\n",
    "SC_dict = {\"Smiles\": subgroup_smiles}\n",
    "for solv in solvent_data['smiles']:\n",
    "    SC_dict[solv]=analyzer.get_score(smi, solv, \n",
    "                        key='SC', inverse_transform=False, is_key_relative=True).reshape(-1)"
   ]
  },
  {
   "cell_type": "code",
   "execution_count": null,
   "id": "05724f90-1e6b-4101-9465-d2c61b252322",
   "metadata": {},
   "outputs": [],
   "source": [
    "SC_table = pd.DataFrame(SC_dict)\n",
    "SC_table"
   ]
  },
  {
   "cell_type": "code",
   "execution_count": null,
   "id": "9b241298-55be-48fe-9f38-96f248c3f116",
   "metadata": {},
   "outputs": [],
   "source": [
    "NSC_table = SC_table.copy()\n",
    "NSC_table.iloc[:,1:] = np.array(SC_table.iloc[:,1:])- np.mean(np.array(SC_table.iloc[:,1:]), axis=1).reshape(-1,1)\n",
    "NSC_table"
   ]
  }
 ],
 "metadata": {
  "kernelspec": {
   "display_name": "Python 3 (ipykernel)",
   "language": "python",
   "name": "python3"
  },
  "language_info": {
   "codemirror_mode": {
    "name": "ipython",
    "version": 3
   },
   "file_extension": ".py",
   "mimetype": "text/x-python",
   "name": "python",
   "nbconvert_exporter": "python",
   "pygments_lexer": "ipython3",
   "version": "3.10.13"
  }
 },
 "nbformat": 4,
 "nbformat_minor": 5
}
