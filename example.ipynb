{
 "cells": [
  {
   "cell_type": "code",
   "execution_count": null,
   "id": "5464ce87-1aeb-460c-8a5b-7392cfde5220",
   "metadata": {},
   "outputs": [],
   "source": [
    "import SGC\n",
    "from SGC import train, Analyzer"
   ]
  },
  {
   "cell_type": "code",
   "execution_count": null,
   "id": "eee7ee3b-37c5-4d20-a440-f33405b81341",
   "metadata": {},
   "outputs": [],
   "source": [
    "# \"A single command for full pipeline of deep learning.\"\n",
    "# \"It returns the path of the folder where the training results are saved.\"\n",
    "model_path= train(data=\"SciData_emi\", target=['Emi_eV'])\n",
    "\n",
    "\n",
    "# \"SGC bascially adopts GAT for graph convolution, but you can try other algorithms by calling other networks.\"\n",
    "# model_path= train(data=\"SciData_emi\", target=['Emi_eV'], network= \"SGC_MPNN\")\n",
    "\n",
    "\n",
    "# \"Hyperparameter configurations are also declared as keyword arguments of train function.\"\n",
    "# model_path= train(data=\"SciData_emi\", target=['Emi_eV'], conv_layers= 6, hidden_dim=256)"
   ]
  },
  {
   "cell_type": "code",
   "execution_count": null,
   "id": "1f626367-95f8-493b-89e7-fbbab4591370",
   "metadata": {},
   "outputs": [],
   "source": [
    "# Analyzer handles the trained model. Getting the folder name as input, it loads the trained models.\n",
    "analyzer = Analyzer(model_path.split('/')[-1])"
   ]
  },
  {
   "cell_type": "code",
   "execution_count": null,
   "id": "befe1672-e646-41a3-95a7-01fb98d44db5",
   "metadata": {},
   "outputs": [],
   "source": [
    "# Analyzer supports the prediction for the pair of choromophore and solvent.\n",
    "analyzer.predict(\"C1C(C(=O)O)=CC=C(C#CC2C=C(N(C)C)C=C(N(C)C)C=2)C=1\", \"CCO\")"
   ]
  },
  {
   "cell_type": "code",
   "execution_count": null,
   "id": "c55e8161-c8ee-4d5b-bf20-ec93354064bf",
   "metadata": {},
   "outputs": [],
   "source": [
    "# The parameters in SGC approach, including Reference Propert (RP), SGC parameter (SGC), and Proximity effect multiplier (PE), are accessib\n",
    "analyzer.get_score(\"C1C(C(=O)O)=CC=C(C#CC2C=C(N(C)C)C=C(N(C)C)C=2)C=1\", \"CCO\", inverse_transform=True)"
   ]
  },
  {
   "cell_type": "code",
   "execution_count": null,
   "id": "b70bc344-474c-4710-8c7e-b48277959d37",
   "metadata": {},
   "outputs": [],
   "source": [
    "# These parameters can be visualized\n",
    "analyzer.plot_score(\"C1C(C(=O)O)=CC=C(C#CC2C=C(N(C)C)C=C(N(C)C)C=2)C=1\", \"CCO\", key=\"SGC\",inverse_transform=True)"
   ]
  }
 ],
 "metadata": {
  "kernelspec": {
   "display_name": "torch2_mini",
   "language": "python",
   "name": "torch2_mini"
  },
  "language_info": {
   "codemirror_mode": {
    "name": "ipython",
    "version": 3
   },
   "file_extension": ".py",
   "mimetype": "text/x-python",
   "name": "python",
   "nbconvert_exporter": "python",
   "pygments_lexer": "ipython3",
   "version": "3.10.15"
  }
 },
 "nbformat": 4,
 "nbformat_minor": 5
}
