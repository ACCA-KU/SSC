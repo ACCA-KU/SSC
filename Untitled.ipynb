{
 "cells": [
  {
   "cell_type": "code",
   "execution_count": 1,
   "id": "7be5a15f-7bda-4f9a-8f5d-6caba2860e68",
   "metadata": {},
   "outputs": [],
   "source": [
    "%load_ext autoreload\n",
    "%autoreload 2\n",
    "    \n",
    "import D4CMPP\n",
    "import SGC"
   ]
  },
  {
   "cell_type": "code",
   "execution_count": 2,
   "id": "62afa307-7fef-4817-b96a-473a8762764f",
   "metadata": {},
   "outputs": [
    {
     "name": "stdout",
     "output_type": "stream",
     "text": [
      "{'data': 'raw_DB_valid', 'target': ['Rf'], 'network': 'SGC_multi', 'scaler': 'standard', 'optimizer': 'Adam', 'max_epoch': 2000, 'batch_size': 256, 'learning_rate': 0.001, 'weight_decay': 0.0005, 'lr_patience': 80, 'early_stopping_patience': 200, 'min_lr': 1e-05, 'device': 'cuda:0', 'pin_memory': False, 'molecule_columns': ['Smiles', 'elu1_smiles', 'elu2_smiles'], 'numeric_input_columns': ['ratio1', 'ratio2'], 'NET_DIR': '/home/ufslab223/Shared/jyp/solvent-effect-attention/SGC_git/SGC/src/SGCnet', 'DataManager_PATH': '/home/ufslab223/Shared/jyp/solvent-effect-attention/SGC_git/SGC/src/SGCDataManager', 'explicit_h_columns': ['solvent'], 'target_dim': 1, 'DATA_PATH': 'raw_DB_valid.csv', 'MODEL_DIR': './_Models', 'GRAPH_DIR': './_Graphs', 'name': 'SGC_multi', 'data_manager_module': 'ISADataManager', 'data_manager_class': 'ISADataManager_v1p3', 'network_manager_module': 'ISANetworkManager', 'network_manager_class': 'ISANetworkManager', 'train_manager_module': 'ISATrainManager', 'train_manager_class': 'ISATrainer', 'description': '', 'version': '1.3', 'MODEL_PATH': './_Models/SGC_multi_raw_DB_valid_Rf_620_20250626_153148', 'sculptor_s': 6, 'sculptor_c': 2, 'sculptor_a': 0}\n",
      "Training from scratch to ./_Models/SGC_multi_raw_DB_valid_Rf_620_20250626_153148\n",
      "Sculptor Index: (6, 2, 0)\n",
      "Device: cuda:0\n",
      "#params: 176515\n",
      "Warning: 'i2i' edge type not found in graphs for key 'Smiles'. Initializing with zeros.\n",
      "Warning: 'i2i' edge type not found in graphs for key 'elu1_smiles'. Initializing with zeros.\n",
      "Warning: 'i2i' edge type not found in graphs for key 'elu2_smiles'. Initializing with zeros.\n",
      "Train: 21, Val: 3, Test: 3\n"
     ]
    },
    {
     "name": "stderr",
     "output_type": "stream",
     "text": [
      "Epoch 102:   5%|▌         | 102/2000 [00:25<07:58,  3.96it/s, train_loss=0.015, val_loss=0.0074]   \n"
     ]
    },
    {
     "name": "stdout",
     "output_type": "stream",
     "text": [
      "Forced termination\n",
      "Loading params from ./_Models/SGC_multi_raw_DB_valid_Rf_620_20250626_153148/param_0.0001788932568160817.pth\n",
      "+--------+--------------------+----------------------+---------------------+\n",
      "| target |      train_r2      |      train_mae       |      train_rmse     |\n",
      "+--------+--------------------+----------------------+---------------------+\n",
      "|   Rf   | 0.9988470274256542 | 0.002688870532438159 | 0.00322129693813622 |\n",
      "+--------+--------------------+----------------------+---------------------+\n",
      "+--------+-------------------+-----------------------+-----------------------+\n",
      "| target |       val_r2      |        val_mae        |        val_rmse       |\n",
      "+--------+-------------------+-----------------------+-----------------------+\n",
      "|   Rf   | 0.999482863873709 | 0.0010947386035695672 | 0.0011937323724851012 |\n",
      "+--------+-------------------+-----------------------+-----------------------+\n",
      "+--------+--------------------+----------------------+----------------------+\n",
      "| target |      test_r2       |       test_mae       |      test_rmse       |\n",
      "+--------+--------------------+----------------------+----------------------+\n",
      "|   Rf   | 0.9982582620577887 | 0.002652595518156886 | 0.003166175913065672 |\n",
      "+--------+--------------------+----------------------+----------------------+\n"
     ]
    },
    {
     "data": {
      "text/plain": [
       "'./_Models/SGC_multi_raw_DB_valid_Rf_620_20250626_153148'"
      ]
     },
     "execution_count": 2,
     "metadata": {},
     "output_type": "execute_result"
    }
   ],
   "source": [
    "SGC.train(data='raw_DB_valid', molecule_columns=['Smiles','elu1_smiles','elu2_smiles',], numeric_input_columns=['ratio1','ratio2'], target=['Rf'],\n",
    "          network='SGC_multi'  )"
   ]
  },
  {
   "cell_type": "code",
   "execution_count": 9,
   "id": "7bfe943f-41e2-46ed-8865-ae52522eb47d",
   "metadata": {},
   "outputs": [],
   "source": []
  },
  {
   "cell_type": "code",
   "execution_count": null,
   "id": "ba841d35-e9fd-4987-b47e-9c07b5a8159c",
   "metadata": {},
   "outputs": [],
   "source": [
    "ISADataManager.ISADataManager_v1p3"
   ]
  },
  {
   "cell_type": "code",
   "execution_count": null,
   "id": "b47235ce-603b-40cd-8f3e-8ff4e6304533",
   "metadata": {},
   "outputs": [],
   "source": []
  }
 ],
 "metadata": {
  "kernelspec": {
   "display_name": "torch2_mini",
   "language": "python",
   "name": "torch2_mini"
  },
  "language_info": {
   "codemirror_mode": {
    "name": "ipython",
    "version": 3
   },
   "file_extension": ".py",
   "mimetype": "text/x-python",
   "name": "python",
   "nbconvert_exporter": "python",
   "pygments_lexer": "ipython3",
   "version": "3.10.15"
  }
 },
 "nbformat": 4,
 "nbformat_minor": 5
}
